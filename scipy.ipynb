{
 "cells": [
  {
   "cell_type": "code",
   "execution_count": 2,
   "id": "96631e9c-5f59-49ac-90b5-517a5ed4c15d",
   "metadata": {
    "tags": []
   },
   "outputs": [],
   "source": [
    "import math\n",
    "import matplotlib.pyplot as plt \n",
    "import numpy as np\n",
    "from scipy.integrate import odeint"
   ]
  },
  {
   "cell_type": "code",
   "execution_count": 14,
   "id": "8abd0e6a-5ff5-4e79-9ac1-833671e4105f",
   "metadata": {},
   "outputs": [
    {
     "data": {
      "text/plain": [
       "479.1106754334304"
      ]
     },
     "execution_count": 14,
     "metadata": {},
     "output_type": "execute_result"
    }
   ],
   "source": [
    "def model(x, t, beta, gamma, n):\n",
    "    s,i,r = x\n",
    "    \n",
    "    dsdt = - beta * (s/n) * i\n",
    "    didt = + beta * (s/n) * i - gamma * i\n",
    "    drdt = + gamma * i\n",
    "    \n",
    "    return [dsdt, didt, drdt]\n",
    "    \n",
    "x0 = (1000, 1, 0)\n",
    "t = np.linspace(0,50,1000)\n",
    "args = (1, .2, 1000)\n",
    "x = odeint(model, x0, t, args=args)\n",
    "\n",
    "s,i,r = x.transpose()\n",
    "\n",
    "# fig, (ax1, ax2) = plt.subplots(1, 2, figsize=(5, 2), dpi=200)\n",
    "\n",
    "# ax1.plot(t,s, label='Susceptible')\n",
    "# ax1.plot(t,i, label='Infectious')\n",
    "# ax1.plot(t,r, label='Removed')\n",
    "# ax1.legend(loc='best')\n",
    "\n",
    "# ax2.plot(s, i, label='s-i-trajectory')\n",
    "# ax2.legend(loc='best')\n",
    "\n",
    "max(i)"
   ]
  },
  {
   "cell_type": "code",
   "execution_count": 23,
   "id": "305e526f",
   "metadata": {},
   "outputs": [],
   "source": [
    "def model(x, t, beta, gamma):\n",
    "    s,i,r = x\n",
    "    \n",
    "    dsdt = -beta*s*i\n",
    "    didt = +beta*s*i -gamma*i\n",
    "    drdt = +gamma*i\n",
    "    \n",
    "    return [dsdt, didt, drdt]\n",
    "    \n",
    "x0 = (0.999, 0.001, 0)\n",
    "\n",
    "t = np.linspace(0,50,100)\n",
    "\n",
    "x = odeint(model, x0, t, args=(2, .2))\n",
    "\n",
    "s1,i1,r1 = x.transpose()"
   ]
  },
  {
   "cell_type": "code",
   "execution_count": 24,
   "id": "240bef02",
   "metadata": {},
   "outputs": [
    {
     "data": {
      "text/plain": [
       "[<matplotlib.lines.Line2D at 0x115c71930>]"
      ]
     },
     "execution_count": 24,
     "metadata": {},
     "output_type": "execute_result"
    },
    {
     "data": {
      "image/png": "[encoded data removed]",
      "text/plain": [
       "<Figure size 432x288 with 1 Axes>"
      ]
     },
     "metadata": {
      "needs_background": "light"
     },
     "output_type": "display_data"
    }
   ],
   "source": [
    "x = np.linspace(0,1)\n",
    "y = np.array([-i+1 for i in x])\n",
    "\n",
    "plt.plot(x,y)\n",
    "plt.plot(s,i)\n",
    "plt.plot(s1,i1)"
   ]
  },
  {
   "cell_type": "code",
   "execution_count": null,
   "id": "8c561c3f",
   "metadata": {},
   "outputs": [],
   "source": []
  }
 ],
 "metadata": {
  "kernelspec": {
   "display_name": "Python 3 (ipykernel)",
   "language": "python",
   "name": "python3"
  },
  "language_info": {
   "codemirror_mode": {
    "name": "ipython",
    "version": 3
   },
   "file_extension": ".py",
   "mimetype": "text/x-python",
   "name": "python",
   "nbconvert_exporter": "python",
   "pygments_lexer": "ipython3",
   "version": "3.10.2"
  }
 },
 "nbformat": 4,
 "nbformat_minor": 5
}
